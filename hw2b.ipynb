{
  "nbformat": 4,
  "nbformat_minor": 0,
  "metadata": {
    "colab": {
      "name": "hw2b.ipynb",
      "provenance": [],
      "include_colab_link": true
    },
    "kernelspec": {
      "name": "python3",
      "display_name": "Python 3"
    }
  },
  "cells": [
    {
      "cell_type": "markdown",
      "metadata": {
        "id": "view-in-github",
        "colab_type": "text"
      },
      "source": [
        "<a href=\"https://colab.research.google.com/github/milly-lauren/aiHW2/blob/problem2/hw2b.ipynb\" target=\"_parent\"><img src=\"https://colab.research.google.com/assets/colab-badge.svg\" alt=\"Open In Colab\"/></a>"
      ]
    },
    {
      "cell_type": "markdown",
      "metadata": {
        "id": "wDvRR6QcBVGm",
        "colab_type": "text"
      },
      "source": [
        "# MNIST FASHION ITEMS"
      ]
    },
    {
      "cell_type": "markdown",
      "metadata": {
        "id": "cFch3GJ7BblI",
        "colab_type": "text"
      },
      "source": [
        "**Load and Format The Data**"
      ]
    },
    {
      "cell_type": "code",
      "metadata": {
        "id": "FHMFBlobBUec",
        "colab_type": "code",
        "colab": {}
      },
      "source": [
        "import tensorflow as tf\n",
        "from tensorflow import keras\n",
        "\n",
        "fashion_mnist = keras.datasets.fashion_mnist\n",
        "\n",
        "(train_images, train_labels), (test_images, test_labels) = fashion_mnist.load_data()"
      ],
      "execution_count": 0,
      "outputs": []
    },
    {
      "cell_type": "code",
      "metadata": {
        "id": "KtG3LfakEw6y",
        "colab_type": "code",
        "colab": {}
      },
      "source": [
        "class_names = ['T-shirt/top', 'Trouser', 'Pullover', 'Dress', 'Coat',\n",
        "               'Sandal', 'Shirt', 'Sneaker', 'Bag', 'Ankle boot']"
      ],
      "execution_count": 0,
      "outputs": []
    },
    {
      "cell_type": "code",
      "metadata": {
        "id": "-1NvpKMYEybq",
        "colab_type": "code",
        "colab": {}
      },
      "source": [
        "train_images = train_images / 255.0\n",
        "test_images = test_images / 255.0"
      ],
      "execution_count": 0,
      "outputs": []
    },
    {
      "cell_type": "markdown",
      "metadata": {
        "id": "YTqBzGM-E3lW",
        "colab_type": "text"
      },
      "source": [
        "**Build Underfit Model**\n",
        "\n",
        "The train_images number is reduced. Now the model doesn't see that much data so it does not train well.\n",
        "\n",
        "It only goes through two layers before the final vector.\n",
        "\n",
        "The train and test accuracy are very low."
      ]
    },
    {
      "cell_type": "code",
      "metadata": {
        "id": "43ie3A4vxk_X",
        "colab_type": "code",
        "colab": {}
      },
      "source": [
        "from sklearn.model_selection import train_test_split\n",
        "\n",
        "under_train_images = train_images\n",
        "under_train_labels = train_labels\n",
        "under_test_images = test_images\n",
        "under_test_labels = test_labels\n",
        "x = np.concatenate((under_train_images, under_test_images))\n",
        "y = np.concatenate((under_train_labels, under_test_labels))\n",
        "\n",
        "train_size = 0.4\n",
        "under_train_images, under_test_images, under_train_labels, under_test_labels = train_test_split(x, y, train_size=train_size, random_state=0)"
      ],
      "execution_count": 0,
      "outputs": []
    },
    {
      "cell_type": "code",
      "metadata": {
        "id": "VyJQRXCmE60T",
        "colab_type": "code",
        "outputId": "86dedb31-92c4-4705-e599-1d732760faf5",
        "colab": {
          "base_uri": "https://localhost:8080/",
          "height": 224
        }
      },
      "source": [
        "model = keras.Sequential([\n",
        "    keras.layers.Flatten(input_shape=(28, 28)),\n",
        "    keras.layers.Dense(2, activation = tf.nn.relu),\n",
        "    keras.layers.Dense(3, activation = tf.nn.relu),\n",
        "    keras.layers.Dense(10, activation=tf.nn.softmax)\n",
        "])\n",
        "\n",
        "# compile the model\n",
        "\n",
        "model.compile(optimizer='adam',\n",
        "             loss='sparse_categorical_crossentropy',\n",
        "             metrics=['accuracy'])\n",
        "\n",
        "# train the model\n",
        "epochs = 5\n",
        "history = model.fit(under_train_images, \n",
        "                      under_train_labels, \n",
        "                      epochs=epochs,  \n",
        "                      validation_data=(under_test_images, under_test_labels))"
      ],
      "execution_count": 0,
      "outputs": [
        {
          "output_type": "stream",
          "text": [
            "Train on 28000 samples, validate on 42000 samples\n",
            "Epoch 1/5\n",
            "28000/28000 [==============================] - 4s 131us/sample - loss: 2.0754 - acc: 0.1777 - val_loss: 1.9013 - val_acc: 0.2295\n",
            "Epoch 2/5\n",
            "28000/28000 [==============================] - 3s 118us/sample - loss: 1.7938 - acc: 0.2483 - val_loss: 1.7185 - val_acc: 0.2722\n",
            "Epoch 3/5\n",
            "28000/28000 [==============================] - 3s 119us/sample - loss: 1.6739 - acc: 0.2834 - val_loss: 1.6403 - val_acc: 0.3031\n",
            "Epoch 4/5\n",
            "28000/28000 [==============================] - 3s 120us/sample - loss: 1.6103 - acc: 0.3246 - val_loss: 1.5933 - val_acc: 0.3586\n",
            "Epoch 5/5\n",
            "28000/28000 [==============================] - 3s 120us/sample - loss: 1.5679 - acc: 0.3651 - val_loss: 1.5634 - val_acc: 0.3662\n"
          ],
          "name": "stdout"
        }
      ]
    },
    {
      "cell_type": "markdown",
      "metadata": {
        "id": "KrEju46jHj_m",
        "colab_type": "text"
      },
      "source": [
        "*Accuracy*"
      ]
    },
    {
      "cell_type": "code",
      "metadata": {
        "id": "UlD8nd0uHlLE",
        "colab_type": "code",
        "outputId": "79083137-740a-46cb-e461-ad623caeb296",
        "colab": {
          "base_uri": "https://localhost:8080/",
          "height": 51
        }
      },
      "source": [
        "test_loss, test_acc = model.evaluate(test_images, test_labels)\n",
        "\n",
        "print('Test accuracy:', test_acc)"
      ],
      "execution_count": 0,
      "outputs": [
        {
          "output_type": "stream",
          "text": [
            "10000/10000 [==============================] - 0s 37us/sample - loss: 1.5634 - acc: 0.3730\n",
            "Test accuracy: 0.373\n"
          ],
          "name": "stdout"
        }
      ]
    },
    {
      "cell_type": "code",
      "metadata": {
        "id": "H0tekiAqIZZV",
        "colab_type": "code",
        "colab": {}
      },
      "source": [
        "history_dict = history.history\n",
        "loss_values = history_dict['loss']\n",
        "test_loss_values = history_dict['val_loss']\n",
        "epochs_range = range(1, epochs+1)"
      ],
      "execution_count": 0,
      "outputs": []
    },
    {
      "cell_type": "code",
      "metadata": {
        "id": "xMuCcFVVIdMy",
        "colab_type": "code",
        "outputId": "060ef5cc-f186-4738-d5a7-761ddc423747",
        "colab": {
          "base_uri": "https://localhost:8080/",
          "height": 295
        }
      },
      "source": [
        "import matplotlib.pyplot as plt\n",
        "import numpy as np\n",
        "\n",
        "plt.plot(epochs_range, loss_values, 'go', label='Training loss')\n",
        "plt.plot(epochs_range, test_loss_values, 'ro', label='Test loss')\n",
        "plt.title('Training and test loss')\n",
        "plt.xlabel('Epochs')\n",
        "plt.ylabel('Loss')\n",
        "plt.legend()\n",
        "plt.show()"
      ],
      "execution_count": 0,
      "outputs": [
        {
          "output_type": "display_data",
          "data": {
            "image/png": "[encoded data removed]",
            "text/plain": [
              "<Figure size 432x288 with 1 Axes>"
            ]
          },
          "metadata": {
            "tags": []
          }
        }
      ]
    },
    {
      "cell_type": "code",
      "metadata": {
        "id": "OYEeBOnLIfmI",
        "colab_type": "code",
        "colab": {}
      },
      "source": [
        "acc_values = history_dict['acc']\n",
        "test_acc_values = history_dict['val_acc']"
      ],
      "execution_count": 0,
      "outputs": []
    },
    {
      "cell_type": "code",
      "metadata": {
        "id": "QQYB2WBtIhXL",
        "colab_type": "code",
        "outputId": "11771a74-cbac-44e5-a6c6-71579884ecf8",
        "colab": {
          "base_uri": "https://localhost:8080/",
          "height": 295
        }
      },
      "source": [
        "plt.plot(epochs_range, acc_values, 'go', label='Training accuracy')\n",
        "plt.plot(epochs_range, test_acc_values, 'ro', label='Test accuracy')\n",
        "plt.title('Training and test accuracy')\n",
        "plt.xlabel('Epochs')\n",
        "plt.ylabel('Accuracy')\n",
        "plt.legend()\n",
        "plt.show()"
      ],
      "execution_count": 0,
      "outputs": [
        {
          "output_type": "display_data",
          "data": {
            "image/png": "[encoded data removed]",
            "text/plain": [
              "<Figure size 432x288 with 1 Axes>"
            ]
          },
          "metadata": {
            "tags": []
          }
        }
      ]
    },
    {
      "cell_type": "markdown",
      "metadata": {
        "id": "hwDPuCdGFxbq",
        "colab_type": "text"
      },
      "source": [
        "**Build Overfit Model** \n",
        "\n",
        "When the accuracy drops when new data is introduced\n",
        "\n",
        "More hidden layers to complicate the NN, also the original train_image size is used here on out.\n",
        "\n",
        "Significant gap between training accuracy and validation (~6%) when tested."
      ]
    },
    {
      "cell_type": "code",
      "metadata": {
        "id": "NSFdnLN8fx0S",
        "colab_type": "code",
        "outputId": "12db0a05-f0cc-4640-a069-5dc8e7ff90fc",
        "colab": {
          "base_uri": "https://localhost:8080/",
          "height": 462
        }
      },
      "source": [
        "model = keras.Sequential([\n",
        "    keras.layers.Flatten(input_shape=(28, 28)),\n",
        "    keras.layers.Dense(20, activation = tf.nn.relu),\n",
        "    keras.layers.Dense(16, activation = tf.nn.relu),\n",
        "    keras.layers.Dense(14, activation = tf.nn.relu),\n",
        "    keras.layers.Dense(12, activation = tf.nn.relu),\n",
        "    keras.layers.Dense(10, activation=tf.nn.softmax)\n",
        "])\n",
        "\n",
        "# compile the model\n",
        "\n",
        "model.compile(optimizer='adam',\n",
        "             loss='sparse_categorical_crossentropy',\n",
        "             metrics=['accuracy'])\n",
        "\n",
        "# train the model\n",
        "epochs = 12\n",
        "history = model.fit(train_images, \n",
        "                      train_labels, \n",
        "                      epochs=epochs,  \n",
        "                      validation_data=(test_images, test_labels))"
      ],
      "execution_count": 0,
      "outputs": [
        {
          "output_type": "stream",
          "text": [
            "Train on 60000 samples, validate on 10000 samples\n",
            "Epoch 1/12\n",
            "60000/60000 [==============================] - 5s 83us/sample - loss: 0.6526 - acc: 0.7626 - val_loss: 0.4800 - val_acc: 0.8271\n",
            "Epoch 2/12\n",
            "60000/60000 [==============================] - 5s 75us/sample - loss: 0.4365 - acc: 0.8427 - val_loss: 0.4434 - val_acc: 0.8417\n",
            "Epoch 3/12\n",
            "60000/60000 [==============================] - 4s 74us/sample - loss: 0.4006 - acc: 0.8559 - val_loss: 0.4515 - val_acc: 0.8385\n",
            "Epoch 4/12\n",
            "60000/60000 [==============================] - 4s 74us/sample - loss: 0.3773 - acc: 0.8639 - val_loss: 0.4068 - val_acc: 0.8526\n",
            "Epoch 5/12\n",
            "60000/60000 [==============================] - 4s 74us/sample - loss: 0.3636 - acc: 0.8682 - val_loss: 0.4110 - val_acc: 0.8523\n",
            "Epoch 6/12\n",
            "60000/60000 [==============================] - 4s 74us/sample - loss: 0.3530 - acc: 0.8730 - val_loss: 0.3908 - val_acc: 0.8580\n",
            "Epoch 7/12\n",
            "60000/60000 [==============================] - 4s 73us/sample - loss: 0.3436 - acc: 0.8750 - val_loss: 0.4058 - val_acc: 0.8541\n",
            "Epoch 8/12\n",
            "60000/60000 [==============================] - 4s 73us/sample - loss: 0.3384 - acc: 0.8765 - val_loss: 0.4056 - val_acc: 0.8507\n",
            "Epoch 9/12\n",
            "60000/60000 [==============================] - 4s 72us/sample - loss: 0.3312 - acc: 0.8794 - val_loss: 0.3759 - val_acc: 0.8651\n",
            "Epoch 10/12\n",
            "60000/60000 [==============================] - 4s 73us/sample - loss: 0.3246 - acc: 0.8817 - val_loss: 0.3783 - val_acc: 0.8627\n",
            "Epoch 11/12\n",
            "60000/60000 [==============================] - 5s 76us/sample - loss: 0.3211 - acc: 0.8822 - val_loss: 0.3817 - val_acc: 0.8667\n",
            "Epoch 12/12\n",
            "60000/60000 [==============================] - 4s 73us/sample - loss: 0.3153 - acc: 0.8846 - val_loss: 0.4125 - val_acc: 0.8566\n"
          ],
          "name": "stdout"
        }
      ]
    },
    {
      "cell_type": "markdown",
      "metadata": {
        "id": "Dx-5BtK7f-DL",
        "colab_type": "text"
      },
      "source": [
        "*Accuracy*"
      ]
    },
    {
      "cell_type": "code",
      "metadata": {
        "id": "97AQKrZ-f-35",
        "colab_type": "code",
        "outputId": "50d93d08-8c63-4c45-94a0-302609c75537",
        "colab": {
          "base_uri": "https://localhost:8080/",
          "height": 51
        }
      },
      "source": [
        "test_loss, test_acc = model.evaluate(test_images, test_labels)\n",
        "\n",
        "print('Test accuracy:', test_acc)"
      ],
      "execution_count": 0,
      "outputs": [
        {
          "output_type": "stream",
          "text": [
            "10000/10000 [==============================] - 0s 46us/sample - loss: 0.4125 - acc: 0.8566\n",
            "Test accuracy: 0.8566\n"
          ],
          "name": "stdout"
        }
      ]
    },
    {
      "cell_type": "code",
      "metadata": {
        "id": "RRafGhHqgC7X",
        "colab_type": "code",
        "colab": {}
      },
      "source": [
        "history_dict = history.history\n",
        "loss_values = history_dict['loss']\n",
        "test_loss_values = history_dict['val_loss']\n",
        "epochs_range = range(1, epochs+1)"
      ],
      "execution_count": 0,
      "outputs": []
    },
    {
      "cell_type": "code",
      "metadata": {
        "id": "zxQqSD5WgDd7",
        "colab_type": "code",
        "outputId": "b0367196-aa81-4d36-8353-1aac8574e0f0",
        "colab": {
          "base_uri": "https://localhost:8080/",
          "height": 295
        }
      },
      "source": [
        "plt.plot(epochs_range, loss_values, 'go', label='Training loss')\n",
        "plt.plot(epochs_range, test_loss_values, 'ro', label='Test loss')\n",
        "plt.title('Training and test loss')\n",
        "plt.xlabel('Epochs')\n",
        "plt.ylabel('Loss')\n",
        "plt.legend()\n",
        "plt.show()"
      ],
      "execution_count": 0,
      "outputs": [
        {
          "output_type": "display_data",
          "data": {
            "image/png": "[encoded data removed]",
            "text/plain": [
              "<Figure size 432x288 with 1 Axes>"
            ]
          },
          "metadata": {
            "tags": []
          }
        }
      ]
    },
    {
      "cell_type": "code",
      "metadata": {
        "id": "6WXhs3IcgGpX",
        "colab_type": "code",
        "colab": {}
      },
      "source": [
        "acc_values = history_dict['acc']\n",
        "test_acc_values = history_dict['val_acc']"
      ],
      "execution_count": 0,
      "outputs": []
    },
    {
      "cell_type": "code",
      "metadata": {
        "id": "br8SxJNpgJs1",
        "colab_type": "code",
        "outputId": "07eaf295-e87a-4e6a-8520-27f512e263a7",
        "colab": {
          "base_uri": "https://localhost:8080/",
          "height": 295
        }
      },
      "source": [
        "plt.plot(epochs_range, acc_values, 'go', label='Training accuracy')\n",
        "plt.plot(epochs_range, test_acc_values, 'ro', label='Test accuracy')\n",
        "plt.title('Training and test accuracy')\n",
        "plt.xlabel('Epochs')\n",
        "plt.ylabel('Accuracy')\n",
        "plt.legend()\n",
        "plt.show()"
      ],
      "execution_count": 0,
      "outputs": [
        {
          "output_type": "display_data",
          "data": {
            "image/png": "[encoded data removed]",
            "text/plain": [
              "<Figure size 432x288 with 1 Axes>"
            ]
          },
          "metadata": {
            "tags": []
          }
        }
      ]
    },
    {
      "cell_type": "markdown",
      "metadata": {
        "id": "Q7FPNCjMgnjR",
        "colab_type": "text"
      },
      "source": [
        "**Build \"Pretty Good\" Model**\n",
        "\n",
        "Add drop out to fight overfitting. \n",
        "\n",
        "Data for training and testing is pretty close except for the first two epochs. When tested the train accuracy is 86.81% and the test accuracy is 86.51%, both performing about the same for predicitions. "
      ]
    },
    {
      "cell_type": "code",
      "metadata": {
        "id": "mAhu4wxPgraL",
        "colab_type": "code",
        "outputId": "7ce26ad1-98ae-4788-c021-d46b1b5c0c16",
        "colab": {
          "base_uri": "https://localhost:8080/",
          "height": 326
        }
      },
      "source": [
        "rate = 0.1\n",
        "\n",
        "model = keras.Sequential([\n",
        "    keras.layers.Flatten(input_shape=(28, 28)),\n",
        "    keras.layers.Dense(40, activation = tf.nn.relu),\n",
        "    keras.layers.Dropout(rate),\n",
        "    keras.layers.Dense(20, activation = tf.nn.relu),\n",
        "    keras.layers.Dropout(rate),\n",
        "    keras.layers.Dense(10, activation=tf.nn.softmax)\n",
        "])\n",
        "\n",
        "# compile the model\n",
        "\n",
        "model.compile(optimizer='adam',\n",
        "             loss='sparse_categorical_crossentropy',\n",
        "             metrics=['accuracy'])\n",
        "\n",
        "# train the model\n",
        "epochs = 8\n",
        "history = model.fit(train_images, \n",
        "                      train_labels, \n",
        "                      epochs=epochs,  \n",
        "                      validation_data=(test_images, test_labels))"
      ],
      "execution_count": 0,
      "outputs": [
        {
          "output_type": "stream",
          "text": [
            "Train on 60000 samples, validate on 10000 samples\n",
            "Epoch 1/8\n",
            "60000/60000 [==============================] - 6s 101us/sample - loss: 0.6674 - acc: 0.7653 - val_loss: 0.4655 - val_acc: 0.8300\n",
            "Epoch 2/8\n",
            "60000/60000 [==============================] - 5s 91us/sample - loss: 0.4685 - acc: 0.8331 - val_loss: 0.4218 - val_acc: 0.8509\n",
            "Epoch 3/8\n",
            "60000/60000 [==============================] - 6s 92us/sample - loss: 0.4295 - acc: 0.8456 - val_loss: 0.4077 - val_acc: 0.8534\n",
            "Epoch 4/8\n",
            "60000/60000 [==============================] - 6s 105us/sample - loss: 0.4086 - acc: 0.8537 - val_loss: 0.4177 - val_acc: 0.8513\n",
            "Epoch 5/8\n",
            "60000/60000 [==============================] - 6s 101us/sample - loss: 0.3926 - acc: 0.8592 - val_loss: 0.4016 - val_acc: 0.8557\n",
            "Epoch 6/8\n",
            "60000/60000 [==============================] - 6s 100us/sample - loss: 0.3797 - acc: 0.8633 - val_loss: 0.3824 - val_acc: 0.8644\n",
            "Epoch 7/8\n",
            "60000/60000 [==============================] - 6s 93us/sample - loss: 0.3694 - acc: 0.8664 - val_loss: 0.3805 - val_acc: 0.8622\n",
            "Epoch 8/8\n",
            "60000/60000 [==============================] - 5s 91us/sample - loss: 0.3612 - acc: 0.8681 - val_loss: 0.3818 - val_acc: 0.8651\n"
          ],
          "name": "stdout"
        }
      ]
    },
    {
      "cell_type": "markdown",
      "metadata": {
        "id": "Xhfaw99zvYLN",
        "colab_type": "text"
      },
      "source": [
        "*Accuracy*"
      ]
    },
    {
      "cell_type": "code",
      "metadata": {
        "id": "_fKCZoLZvblt",
        "colab_type": "code",
        "outputId": "61d24e4b-397f-4b9d-e033-f1a7c3e376e1",
        "colab": {
          "base_uri": "https://localhost:8080/",
          "height": 51
        }
      },
      "source": [
        "test_loss, test_acc = model.evaluate(test_images, test_labels)\n",
        "\n",
        "print('Test accuracy:', test_acc)"
      ],
      "execution_count": 0,
      "outputs": [
        {
          "output_type": "stream",
          "text": [
            "10000/10000 [==============================] - 1s 53us/sample - loss: 0.3818 - acc: 0.8651\n",
            "Test accuracy: 0.8651\n"
          ],
          "name": "stdout"
        }
      ]
    },
    {
      "cell_type": "code",
      "metadata": {
        "id": "bEMH2dYGvniX",
        "colab_type": "code",
        "colab": {}
      },
      "source": [
        "history_dict = history.history\n",
        "loss_values = history_dict['loss']\n",
        "test_loss_values = history_dict['val_loss']\n",
        "epochs_range = range(1, epochs+1)"
      ],
      "execution_count": 0,
      "outputs": []
    },
    {
      "cell_type": "code",
      "metadata": {
        "id": "wm78X31Mvp2E",
        "colab_type": "code",
        "outputId": "b0abf3b9-ea36-455d-d260-777d347ada3f",
        "colab": {
          "base_uri": "https://localhost:8080/",
          "height": 295
        }
      },
      "source": [
        "plt.plot(epochs_range, loss_values, 'go', label='Training loss')\n",
        "plt.plot(epochs_range, test_loss_values, 'ro', label='Test loss')\n",
        "plt.title('Training and test loss')\n",
        "plt.xlabel('Epochs')\n",
        "plt.ylabel('Loss')\n",
        "plt.legend()\n",
        "plt.show()"
      ],
      "execution_count": 0,
      "outputs": [
        {
          "output_type": "display_data",
          "data": {
            "image/png": "[encoded data removed]",
            "text/plain": [
              "<Figure size 432x288 with 1 Axes>"
            ]
          },
          "metadata": {
            "tags": []
          }
        }
      ]
    },
    {
      "cell_type": "code",
      "metadata": {
        "id": "Kc1lgAzvv4yG",
        "colab_type": "code",
        "colab": {}
      },
      "source": [
        "acc_values = history_dict['acc']\n",
        "test_acc_values = history_dict['val_acc']"
      ],
      "execution_count": 0,
      "outputs": []
    },
    {
      "cell_type": "code",
      "metadata": {
        "id": "7sJgwJEFv6kg",
        "colab_type": "code",
        "outputId": "9c934695-1bcd-43ed-b7fb-44999ae0174a",
        "colab": {
          "base_uri": "https://localhost:8080/",
          "height": 295
        }
      },
      "source": [
        "plt.plot(epochs_range, acc_values, 'go', label='Training accuracy')\n",
        "plt.plot(epochs_range, test_acc_values, 'ro', label='Test accuracy')\n",
        "plt.title('Training and test accuracy')\n",
        "plt.xlabel('Epochs')\n",
        "plt.ylabel('Accuracy')\n",
        "plt.legend()\n",
        "plt.show()"
      ],
      "execution_count": 0,
      "outputs": [
        {
          "output_type": "display_data",
          "data": {
            "image/png": "[encoded data removed]",
            "text/plain": [
              "<Figure size 432x288 with 1 Axes>"
            ]
          },
          "metadata": {
            "tags": []
          }
        }
      ]
    }
  ]
}