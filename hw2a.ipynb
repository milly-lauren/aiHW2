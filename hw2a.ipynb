{
  "nbformat": 4,
  "nbformat_minor": 0,
  "metadata": {
    "colab": {
      "name": "hw2a.ipynb",
      "provenance": [],
      "collapsed_sections": [],
      "include_colab_link": true
    },
    "kernelspec": {
      "name": "python3",
      "display_name": "Python 3"
    }
  },
  "cells": [
    {
      "cell_type": "markdown",
      "metadata": {
        "id": "view-in-github",
        "colab_type": "text"
      },
      "source": [
        "<a href=\"https://colab.research.google.com/github/milly-lauren/aiHW2/blob/problem1/hw2a.ipynb\" target=\"_parent\"><img src=\"https://colab.research.google.com/assets/colab-badge.svg\" alt=\"Open In Colab\"/></a>"
      ]
    },
    {
      "cell_type": "markdown",
      "metadata": {
        "id": "Jphr_ur6BCeP",
        "colab_type": "text"
      },
      "source": [
        "\n",
        "## Handcrafted Features\n"
      ]
    },
    {
      "cell_type": "markdown",
      "metadata": {
        "id": "iD7H78OJsY-g",
        "colab_type": "text"
      },
      "source": [
        "**Load the Data**"
      ]
    },
    {
      "cell_type": "code",
      "metadata": {
        "id": "_axhi35mA-Iy",
        "colab_type": "code",
        "outputId": "435b58c9-e166-4789-e57b-d1ffe0735d13",
        "colab": {
          "base_uri": "https://localhost:8080/",
          "height": 114
        }
      },
      "source": [
        "from keras.datasets import mnist\n",
        "import time \n",
        "\n",
        "(train_images, train_labels), (test_images, test_labels) = mnist.load_data()"
      ],
      "execution_count": 0,
      "outputs": [
        {
          "output_type": "stream",
          "text": [
            "Using TensorFlow backend.\n"
          ],
          "name": "stderr"
        },
        {
          "output_type": "display_data",
          "data": {
            "text/html": [
              "<p style=\"color: red;\">\n",
              "The default version of TensorFlow in Colab will soon switch to TensorFlow 2.x.<br>\n",
              "We recommend you <a href=\"https://www.tensorflow.org/guide/migrate\" target=\"_blank\">upgrade</a> now \n",
              "or ensure your notebook will continue to use TensorFlow 1.x via the <code>%tensorflow_version 1.x</code> magic:\n",
              "<a href=\"https://colab.research.google.com/notebooks/tensorflow_version.ipynb\" target=\"_blank\">more info</a>.</p>\n"
            ],
            "text/plain": [
              "<IPython.core.display.HTML object>"
            ]
          },
          "metadata": {
            "tags": []
          }
        },
        {
          "output_type": "stream",
          "text": [
            "Downloading data from https://s3.amazonaws.com/img-datasets/mnist.npz\n",
            "11493376/11490434 [==============================] - 1s 0us/step\n"
          ],
          "name": "stdout"
        }
      ]
    },
    {
      "cell_type": "code",
      "metadata": {
        "id": "2Vc34csnp7TN",
        "colab_type": "code",
        "colab": {}
      },
      "source": [
        "%matplotlib inline\n",
        "import matplotlib.pyplot as plt\n",
        "import numpy as np\n",
        "from PIL import Image\n",
        "from keras.utils import to_categorical\n",
        "\n",
        "#train_labels = to_categorical(train_labels_original)\n",
        "#test_labels = to_categorical(test_labels_original)\n",
        "\n",
        "# change the labels to be ints\n",
        "#train_labels = np.argmax(train_labels, axis=1)\n",
        "#train_labels = train_labels.astype('uint8')"
      ],
      "execution_count": 0,
      "outputs": []
    },
    {
      "cell_type": "markdown",
      "metadata": {
        "id": "CUgwbcnR1F9v",
        "colab_type": "text"
      },
      "source": [
        "**Define Features for Average Height and Width of Digits**\n",
        "\n",
        "This takes a hot minute...\n"
      ]
    },
    {
      "cell_type": "code",
      "metadata": {
        "id": "roFG9OtMAHkW",
        "colab_type": "code",
        "colab": {}
      },
      "source": [
        "def find_tall(digit):\n",
        "  for row in range (0,28):\n",
        "    for col in range(0,28):\n",
        "      if (digit[row][col]) > 100:\n",
        "        return row\n",
        "      \n",
        "  return 0\n",
        "      \n",
        "def find_short(digit):\n",
        "  for row in range (27, 0 ,-1):\n",
        "    for col in range(0,28):\n",
        "      if digit[row][col] > 100:\n",
        "        return row\n",
        "       \n",
        "  return 0\n",
        "\n",
        "def find_left(digit):\n",
        "  for col in range (0,28):\n",
        "    for row in range(0,28):\n",
        "      if digit[row][col] > 100:\n",
        "        return col\n",
        "  return 0\n",
        "\n",
        "def find_right(digit):\n",
        "  for col in range (27, 0 ,-1):\n",
        "    for row in range(0,28):\n",
        "      if digit[row][col] > 100:\n",
        "        return col\n",
        "  return 0  \n",
        "\n",
        "def find_bounds(digit):\n",
        "  tall = 28\n",
        "  short = 0\n",
        "  left = 28\n",
        "  right = 0\n",
        "  for row in range (0,28):\n",
        "    for col in range (0,28):\n",
        "      if digit[row][col] > 100:\n",
        "        if(row < tall):\n",
        "          tall = row\n",
        "        if(row > short):\n",
        "          short = row\n",
        "        if(col < left):\n",
        "          left = col\n",
        "        if(col > right):\n",
        "          right = col\n",
        "  \n",
        "  return tall, short, left, right\n"
      ],
      "execution_count": 0,
      "outputs": []
    },
    {
      "cell_type": "code",
      "metadata": {
        "id": "uLThMUYG1H81",
        "colab_type": "code",
        "outputId": "8b7358a4-9161-411a-da4a-8c1ec655a5c3",
        "colab": {
          "base_uri": "https://localhost:8080/",
          "height": 34
        }
      },
      "source": [
        "num = len(train_images)\n",
        "\n",
        "start = time.time()\n",
        "\n",
        "avg_height = np.zeros((10, 1, 1))\n",
        "avg_width = np.zeros((10,1,1))\n",
        "freq_digits = np.zeros((10, 1, 1))\n",
        "\n",
        "# Find the height by finding the \"tallest\" pixel - \"shortest\" pixel\n",
        "# Keep in mind, the image goes from 0 to 28, so the \"tallest\" is at the smallest row\n",
        "# Same thing for width, but now the logic follows, the \"rightmost\" pixel - \"leftmost\" pixel\n",
        "# since the array follows like a number line\n",
        "\n",
        "for idx in np.arange(num):\n",
        "  label = train_labels[idx]\n",
        "  digit = train_images[idx]\n",
        "  #tall, short, left, right = find_bounds(digit)\n",
        "  avg_height[label] += find_short(digit) - find_tall(digit)\n",
        "  avg_width[label] += find_right(digit) - find_left(digit)\n",
        "  freq_digits[label] += 1\n",
        "\n",
        "\n",
        "\n",
        "avg_height /= freq_digits\n",
        "avg_width /= freq_digits\n",
        "\n",
        "end = time.time()\n",
        "\n",
        "print(end - start)"
      ],
      "execution_count": 0,
      "outputs": [
        {
          "output_type": "stream",
          "text": [
            "88.02899384498596\n"
          ],
          "name": "stdout"
        }
      ]
    },
    {
      "cell_type": "markdown",
      "metadata": {
        "id": "hg5-tF8ziHag",
        "colab_type": "text"
      },
      "source": [
        "**Normalize the vectors**"
      ]
    },
    {
      "cell_type": "code",
      "metadata": {
        "id": "r4blCYR9iGlN",
        "colab_type": "code",
        "outputId": "e7f02f19-64bc-4de6-e76a-4874601925b7",
        "colab": {
          "base_uri": "https://localhost:8080/",
          "height": 85
        }
      },
      "source": [
        "hMax = avg_height.max()\n",
        "avg_height = avg_height / hMax\n",
        "\n",
        "wMax = avg_width.max()\n",
        "avg_width = avg_width / wMax\n"
      ],
      "execution_count": 0,
      "outputs": [
        {
          "output_type": "stream",
          "text": [
            "/usr/local/lib/python3.6/dist-packages/ipykernel_launcher.py:2: RuntimeWarning: invalid value encountered in true_divide\n",
            "  \n",
            "/usr/local/lib/python3.6/dist-packages/ipykernel_launcher.py:5: RuntimeWarning: invalid value encountered in true_divide\n",
            "  \"\"\"\n"
          ],
          "name": "stderr"
        }
      ]
    },
    {
      "cell_type": "markdown",
      "metadata": {
        "id": "Uv7Oie-xs50E",
        "colab_type": "text"
      },
      "source": [
        "**Build the Single Dense Layer Model**\n",
        "https://stackoverflow.com/questions/43237124/what-is-the-role-of-flatten-in-keras\n",
        "\n"
      ]
    },
    {
      "cell_type": "code",
      "metadata": {
        "id": "gpgLbAObs9LF",
        "colab_type": "code",
        "outputId": "68f45426-ee1d-43e8-e6a1-fc742f315e68",
        "colab": {
          "base_uri": "https://localhost:8080/",
          "height": 385
        }
      },
      "source": [
        "from keras import models\n",
        "from keras import layers\n",
        "\n",
        "# Flatten the images\n",
        "train_images = train_images.reshape((60000, 28 * 28))\n",
        "train_images = train_images.astype('float32') / 255\n",
        "\n",
        "test_images = test_images.reshape((10000, 28 * 28))\n",
        "test_images = test_images.astype('float32') / 255\n",
        "\n",
        "# Concatenate \n",
        "test_images = np.concatenate(test_images, avg_height, avg_width)\n",
        "test_images = np.stack(test_images, avg_height, avg_width)\n",
        "# Put it through one dense layer\n",
        "model = keras.Sequential([\n",
        "    keras.layers.Flatten(input_shape=(28, 28)),\n",
        "    keras.layers.Dense(10, activation=tf.nn.softmax)\n",
        "])"
      ],
      "execution_count": 0,
      "outputs": [
        {
          "output_type": "error",
          "ename": "TypeError",
          "evalue": "ignored",
          "traceback": [
            "\u001b[0;31m---------------------------------------------------------------------------\u001b[0m",
            "\u001b[0;31mTypeError\u001b[0m                                 Traceback (most recent call last)",
            "\u001b[0;32m<ipython-input-7-6ac2d02f24a9>\u001b[0m in \u001b[0;36m<module>\u001b[0;34m()\u001b[0m\n\u001b[1;32m     11\u001b[0m \u001b[0;31m# Concatenate\u001b[0m\u001b[0;34m\u001b[0m\u001b[0;34m\u001b[0m\u001b[0;34m\u001b[0m\u001b[0m\n\u001b[1;32m     12\u001b[0m \u001b[0;31m#test_images = np.concatenate(test_images, avg_height, avg_width)\u001b[0m\u001b[0;34m\u001b[0m\u001b[0;34m\u001b[0m\u001b[0;34m\u001b[0m\u001b[0m\n\u001b[0;32m---> 13\u001b[0;31m \u001b[0mtest_images\u001b[0m \u001b[0;34m=\u001b[0m \u001b[0mnp\u001b[0m\u001b[0;34m.\u001b[0m\u001b[0mstack\u001b[0m\u001b[0;34m(\u001b[0m\u001b[0mtest_images\u001b[0m\u001b[0;34m,\u001b[0m \u001b[0mavg_height\u001b[0m\u001b[0;34m,\u001b[0m \u001b[0mavg_width\u001b[0m\u001b[0;34m)\u001b[0m\u001b[0;34m\u001b[0m\u001b[0;34m\u001b[0m\u001b[0m\n\u001b[0m\u001b[1;32m     14\u001b[0m \u001b[0;31m# Put it through one dense layer\u001b[0m\u001b[0;34m\u001b[0m\u001b[0;34m\u001b[0m\u001b[0;34m\u001b[0m\u001b[0m\n\u001b[1;32m     15\u001b[0m model = keras.Sequential([\n",
            "\u001b[0;32m<__array_function__ internals>\u001b[0m in \u001b[0;36mstack\u001b[0;34m(*args, **kwargs)\u001b[0m\n",
            "\u001b[0;32m/usr/local/lib/python3.6/dist-packages/numpy/core/shape_base.py\u001b[0m in \u001b[0;36mstack\u001b[0;34m(arrays, axis, out)\u001b[0m\n\u001b[1;32m    426\u001b[0m \u001b[0;34m\u001b[0m\u001b[0m\n\u001b[1;32m    427\u001b[0m     \u001b[0mresult_ndim\u001b[0m \u001b[0;34m=\u001b[0m \u001b[0marrays\u001b[0m\u001b[0;34m[\u001b[0m\u001b[0;36m0\u001b[0m\u001b[0;34m]\u001b[0m\u001b[0;34m.\u001b[0m\u001b[0mndim\u001b[0m \u001b[0;34m+\u001b[0m \u001b[0;36m1\u001b[0m\u001b[0;34m\u001b[0m\u001b[0;34m\u001b[0m\u001b[0m\n\u001b[0;32m--> 428\u001b[0;31m     \u001b[0maxis\u001b[0m \u001b[0;34m=\u001b[0m \u001b[0mnormalize_axis_index\u001b[0m\u001b[0;34m(\u001b[0m\u001b[0maxis\u001b[0m\u001b[0;34m,\u001b[0m \u001b[0mresult_ndim\u001b[0m\u001b[0;34m)\u001b[0m\u001b[0;34m\u001b[0m\u001b[0;34m\u001b[0m\u001b[0m\n\u001b[0m\u001b[1;32m    429\u001b[0m \u001b[0;34m\u001b[0m\u001b[0m\n\u001b[1;32m    430\u001b[0m     \u001b[0msl\u001b[0m \u001b[0;34m=\u001b[0m \u001b[0;34m(\u001b[0m\u001b[0mslice\u001b[0m\u001b[0;34m(\u001b[0m\u001b[0;32mNone\u001b[0m\u001b[0;34m)\u001b[0m\u001b[0;34m,\u001b[0m\u001b[0;34m)\u001b[0m \u001b[0;34m*\u001b[0m \u001b[0maxis\u001b[0m \u001b[0;34m+\u001b[0m \u001b[0;34m(\u001b[0m\u001b[0m_nx\u001b[0m\u001b[0;34m.\u001b[0m\u001b[0mnewaxis\u001b[0m\u001b[0;34m,\u001b[0m\u001b[0;34m)\u001b[0m\u001b[0;34m\u001b[0m\u001b[0;34m\u001b[0m\u001b[0m\n",
            "\u001b[0;31mTypeError\u001b[0m: only size-1 arrays can be converted to Python scalars"
          ]
        }
      ]
    },
    {
      "cell_type": "code",
      "metadata": {
        "id": "hcWzzmR19Bzg",
        "colab_type": "code",
        "colab": {}
      },
      "source": [
        "model.compile(optimizer='adam',\n",
        "             loss='sparse_categorical_crossentropy',\n",
        "             metrics=['accuracy'])\n",
        "\n",
        "epochs = 10\n",
        "history = model.fit(train_images, \n",
        "                      train_labels, \n",
        "                      epochs=epochs,  \n",
        "                      validation_data=(test_images, test_labels))"
      ],
      "execution_count": 0,
      "outputs": []
    },
    {
      "cell_type": "code",
      "metadata": {
        "id": "p1zLpaNP8_2M",
        "colab_type": "code",
        "colab": {}
      },
      "source": [
        "test_loss, test_acc = model.evaluate(test_images, test_labels)\n",
        "\n",
        "print('Test accuracy:', test_acc)"
      ],
      "execution_count": 0,
      "outputs": []
    },
    {
      "cell_type": "code",
      "metadata": {
        "id": "s2Vz1ndM9AhB",
        "colab_type": "code",
        "colab": {}
      },
      "source": [
        "import matplotlib.pyplot as plt\n",
        "import numpy as np\n",
        "\n",
        "history_dict = history.history\n",
        "loss_values = history_dict['loss']\n",
        "test_loss_values = history_dict['val_loss']\n",
        "epochs_range = range(1, epochs+1)\n",
        "\n",
        "plt.plot(epochs_range, loss_values, 'go', label='Training loss')\n",
        "plt.plot(epochs_range, test_loss_values, 'ro', label='Test loss')\n",
        "plt.title('Training and test loss')\n",
        "plt.xlabel('Epochs')\n",
        "plt.ylabel('Loss')\n",
        "plt.legend()\n",
        "plt.show()"
      ],
      "execution_count": 0,
      "outputs": []
    },
    {
      "cell_type": "markdown",
      "metadata": {
        "id": "EbOTp-aCIF13",
        "colab_type": "text"
      },
      "source": [
        "make copy then convert to 0 and 1\n",
        "\n",
        "image > 100 = 1 \n",
        "\n",
        "image < 100 = 0\n"
      ]
    }
  ]
}