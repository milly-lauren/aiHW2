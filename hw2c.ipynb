{
  "nbformat": 4,
  "nbformat_minor": 0,
  "metadata": {
    "colab": {
      "name": "hw2c.ipynb",
      "provenance": [],
      "include_colab_link": true
    },
    "kernelspec": {
      "name": "python3",
      "display_name": "Python 3"
    }
  },
  "cells": [
    {
      "cell_type": "markdown",
      "metadata": {
        "id": "view-in-github",
        "colab_type": "text"
      },
      "source": [
        "<a href=\"https://colab.research.google.com/github/milly-lauren/aiHW2/blob/problem3/hw2c.ipynb\" target=\"_parent\"><img src=\"https://colab.research.google.com/assets/colab-badge.svg\" alt=\"Open In Colab\"/></a>"
      ]
    },
    {
      "cell_type": "markdown",
      "metadata": {
        "id": "RfqGZ-juAUsO",
        "colab_type": "text"
      },
      "source": [
        "#CIFAR10 Data Set\n"
      ]
    },
    {
      "cell_type": "markdown",
      "metadata": {
        "id": "s0IuSFIyAomb",
        "colab_type": "text"
      },
      "source": [
        "**Load and Format the Data**"
      ]
    },
    {
      "cell_type": "code",
      "metadata": {
        "id": "pJmuopC9R0CV",
        "colab_type": "code",
        "colab": {}
      },
      "source": [
        "import matplotlib.pyplot as plt\n",
        "import numpy as np"
      ],
      "execution_count": 0,
      "outputs": []
    },
    {
      "cell_type": "code",
      "metadata": {
        "id": "Lc3wQtH__3Yl",
        "colab_type": "code",
        "colab": {}
      },
      "source": [
        "import tensorflow as tf\n",
        "from tensorflow import keras\n",
        "from keras.datasets import cifar10\n",
        "\n",
        "(train_images, train_labels), (test_images, test_labels) = cifar10.load_data()"
      ],
      "execution_count": 0,
      "outputs": []
    },
    {
      "cell_type": "code",
      "metadata": {
        "id": "3nYYE_c0rkTQ",
        "colab_type": "code",
        "outputId": "7c4ba4d6-7fe6-4a21-a0a4-7b2d08548cb4",
        "colab": {
          "base_uri": "https://localhost:8080/",
          "height": 35
        }
      },
      "source": [
        "train_images.shape"
      ],
      "execution_count": 59,
      "outputs": [
        {
          "output_type": "execute_result",
          "data": {
            "text/plain": [
              "(50000, 32, 32, 3)"
            ]
          },
          "metadata": {
            "tags": []
          },
          "execution_count": 59
        }
      ]
    },
    {
      "cell_type": "code",
      "metadata": {
        "id": "8baEEmLgs4-I",
        "colab_type": "code",
        "colab": {}
      },
      "source": [
        "train_images = train_images / 255.0\n",
        "test_images = test_images / 255.0"
      ],
      "execution_count": 0,
      "outputs": []
    },
    {
      "cell_type": "markdown",
      "metadata": {
        "id": "0OI83ZDStWZx",
        "colab_type": "text"
      },
      "source": [
        "**Build \"Good\" Model**\n",
        "\n",
        "This model has an average accuracy in both training and validation. The deviation between the two is minimal."
      ]
    },
    {
      "cell_type": "code",
      "metadata": {
        "id": "vwUwoPqPtayN",
        "colab_type": "code",
        "colab": {}
      },
      "source": [
        "# 2D, Maxpooling, 2D, Maxpooling, 2D, Dense, Dense\n",
        "model = keras.Sequential([\n",
        "    keras.layers.Conv2D(16, (3, 3), activation='relu', input_shape=(32, 32, 3)),\n",
        "    keras.layers.MaxPooling2D((2, 2)),\n",
        "    keras.layers.Conv2D(32, (3, 3), activation='relu'),\n",
        "    keras.layers.MaxPooling2D((2, 2)),\n",
        "    keras.layers.Conv2D(64, (3, 3), activation='relu'),\n",
        "    keras.layers.Flatten(),\n",
        "    keras.layers.Dense(32, activation='relu'),\n",
        "    keras.layers.Dense(10, activation='softmax')\n",
        "])"
      ],
      "execution_count": 0,
      "outputs": []
    },
    {
      "cell_type": "code",
      "metadata": {
        "id": "xTQX1SlLNmbo",
        "colab_type": "code",
        "colab": {}
      },
      "source": [
        "model.compile(optimizer='adam',\n",
        "             loss='sparse_categorical_crossentropy',\n",
        "             metrics=['accuracy'])"
      ],
      "execution_count": 0,
      "outputs": []
    },
    {
      "cell_type": "code",
      "metadata": {
        "id": "1esagEt4NoCK",
        "colab_type": "code",
        "colab": {
          "base_uri": "https://localhost:8080/",
          "height": 346
        },
        "outputId": "931d8531-82d6-41c8-f3cc-f69d254d62e4"
      },
      "source": [
        "epochs = 8\n",
        "history = model.fit(train_images, \n",
        "                      train_labels, \n",
        "                      epochs=epochs,  \n",
        "                      validation_data=(test_images, test_labels))"
      ],
      "execution_count": 63,
      "outputs": [
        {
          "output_type": "stream",
          "text": [
            "Train on 50000 samples, validate on 10000 samples\n",
            "Epoch 1/8\n",
            "50000/50000 [==============================] - 48s 954us/sample - loss: 1.5934 - acc: 0.4151 - val_loss: 1.3474 - val_acc: 0.5170\n",
            "Epoch 2/8\n",
            "50000/50000 [==============================] - 47s 945us/sample - loss: 1.2595 - acc: 0.5503 - val_loss: 1.2425 - val_acc: 0.5640\n",
            "Epoch 3/8\n",
            "50000/50000 [==============================] - 46s 928us/sample - loss: 1.1160 - acc: 0.6061 - val_loss: 1.0597 - val_acc: 0.6249\n",
            "Epoch 4/8\n",
            "50000/50000 [==============================] - 46s 925us/sample - loss: 1.0141 - acc: 0.6436 - val_loss: 1.0147 - val_acc: 0.6422\n",
            "Epoch 5/8\n",
            "50000/50000 [==============================] - 46s 921us/sample - loss: 0.9439 - acc: 0.6700 - val_loss: 0.9772 - val_acc: 0.6594\n",
            "Epoch 6/8\n",
            "50000/50000 [==============================] - 46s 928us/sample - loss: 0.8944 - acc: 0.6862 - val_loss: 0.9987 - val_acc: 0.6564\n",
            "Epoch 7/8\n",
            "50000/50000 [==============================] - 46s 927us/sample - loss: 0.8488 - acc: 0.7039 - val_loss: 0.9358 - val_acc: 0.6763\n",
            "Epoch 8/8\n",
            "50000/50000 [==============================] - 46s 930us/sample - loss: 0.8145 - acc: 0.7148 - val_loss: 0.9533 - val_acc: 0.6748\n"
          ],
          "name": "stdout"
        }
      ]
    },
    {
      "cell_type": "markdown",
      "metadata": {
        "id": "W27W9LnkRp_x",
        "colab_type": "text"
      },
      "source": [
        "*Accuracy*"
      ]
    },
    {
      "cell_type": "code",
      "metadata": {
        "id": "70CSymThNss4",
        "colab_type": "code",
        "colab": {
          "base_uri": "https://localhost:8080/",
          "height": 54
        },
        "outputId": "808c814a-6159-44f0-d605-6a22df198a47"
      },
      "source": [
        "test_loss, test_acc = model.evaluate(test_images, test_labels)\n",
        "\n",
        "print('Test accuracy:', test_acc)"
      ],
      "execution_count": 64,
      "outputs": [
        {
          "output_type": "stream",
          "text": [
            "10000/10000 [==============================] - 3s 336us/sample - loss: 0.9533 - acc: 0.6748\n",
            "Test accuracy: 0.6748\n"
          ],
          "name": "stdout"
        }
      ]
    },
    {
      "cell_type": "code",
      "metadata": {
        "id": "2TeqU9_ARtYP",
        "colab_type": "code",
        "colab": {
          "base_uri": "https://localhost:8080/",
          "height": 295
        },
        "outputId": "1db7fcaa-172e-4391-d43d-2ab765c28edb"
      },
      "source": [
        "history_dict = history.history\n",
        "loss_values = history_dict['loss']\n",
        "test_loss_values = history_dict['val_loss']\n",
        "epochs_range = range(1, epochs+1)\n",
        "\n",
        "plt.plot(epochs_range, loss_values, 'go', label='Training loss')\n",
        "plt.plot(epochs_range, test_loss_values , 'r', label='Test loss')\n",
        "plt.title('Training and test loss')\n",
        "plt.xlabel('Epochs')\n",
        "plt.ylabel('Loss')\n",
        "plt.legend()\n",
        "plt.show()"
      ],
      "execution_count": 65,
      "outputs": [
        {
          "output_type": "display_data",
          "data": {
            "image/png": "[encoded data removed]",
            "text/plain": [
              "<Figure size 432x288 with 1 Axes>"
            ]
          },
          "metadata": {
            "tags": []
          }
        }
      ]
    },
    {
      "cell_type": "code",
      "metadata": {
        "id": "9mb-Q6tmR2ZB",
        "colab_type": "code",
        "colab": {
          "base_uri": "https://localhost:8080/",
          "height": 295
        },
        "outputId": "477a23d1-f3d3-47a4-8646-a5050ab6cfaf"
      },
      "source": [
        "acc_values = history_dict['acc']\n",
        "test_acc_values = history_dict['val_acc']\n",
        "\n",
        "plt.plot(epochs_range, acc_values, 'go', label='Training accuracy')\n",
        "plt.plot(epochs_range, test_acc_values, 'r', label='Test accuracy')\n",
        "plt.title('Training and test accuracy')\n",
        "plt.xlabel('Epochs')\n",
        "plt.ylabel('Accuracy')\n",
        "plt.legend()\n",
        "plt.show()"
      ],
      "execution_count": 66,
      "outputs": [
        {
          "output_type": "display_data",
          "data": {
            "image/png": "[encoded data removed]",
            "text/plain": [
              "<Figure size 432x288 with 1 Axes>"
            ]
          },
          "metadata": {
            "tags": []
          }
        }
      ]
    },
    {
      "cell_type": "markdown",
      "metadata": {
        "id": "J7IxU8a9pGB2",
        "colab_type": "text"
      },
      "source": [
        "**Build Overfit Model**\n",
        "\n",
        "This model is complex with the number of training cycles, and the number of features it extracts, along with the kernel sizes. It trains well, but does not perform well during validation."
      ]
    },
    {
      "cell_type": "code",
      "metadata": {
        "id": "yk1fuzFGpMZ_",
        "colab_type": "code",
        "colab": {}
      },
      "source": [
        "# 2D, Maxpooling, 2D, Dense, Dense\n",
        "model = keras.Sequential([\n",
        "    keras.layers.Conv2D(32, (4, 4), activation='relu', input_shape=(32, 32, 3)),\n",
        "    keras.layers.MaxPooling2D((2, 2)),\n",
        "    keras.layers.Conv2D(64, (4, 4), activation='relu'),\n",
        "    keras.layers.Flatten(),\n",
        "    keras.layers.Dense(64, activation='relu'),\n",
        "    keras.layers.Dense(10, activation='softmax')\n",
        "])"
      ],
      "execution_count": 0,
      "outputs": []
    },
    {
      "cell_type": "code",
      "metadata": {
        "id": "NmDr4F85pQXI",
        "colab_type": "code",
        "colab": {}
      },
      "source": [
        "model.compile(optimizer='adam',\n",
        "             loss='sparse_categorical_crossentropy',\n",
        "             metrics=['accuracy'])"
      ],
      "execution_count": 0,
      "outputs": []
    },
    {
      "cell_type": "code",
      "metadata": {
        "id": "2sLJLnejpSuH",
        "colab_type": "code",
        "colab": {
          "base_uri": "https://localhost:8080/",
          "height": 399
        },
        "outputId": "0654ab8b-5bb7-4163-ab59-94222559d1de"
      },
      "source": [
        "epochs = 10\n",
        "history = model.fit(train_images, \n",
        "                      train_labels, \n",
        "                      epochs=epochs,  \n",
        "                      validation_data=(test_images, test_labels))"
      ],
      "execution_count": 69,
      "outputs": [
        {
          "output_type": "stream",
          "text": [
            "Train on 50000 samples, validate on 10000 samples\n",
            "Epoch 1/10\n",
            "50000/50000 [==============================] - 72s 1ms/sample - loss: 1.4519 - acc: 0.4768 - val_loss: 1.2372 - val_acc: 0.5585\n",
            "Epoch 2/10\n",
            "50000/50000 [==============================] - 72s 1ms/sample - loss: 1.1389 - acc: 0.5977 - val_loss: 1.0689 - val_acc: 0.6225\n",
            "Epoch 3/10\n",
            "50000/50000 [==============================] - 72s 1ms/sample - loss: 0.9970 - acc: 0.6515 - val_loss: 1.0266 - val_acc: 0.6485\n",
            "Epoch 4/10\n",
            "50000/50000 [==============================] - 72s 1ms/sample - loss: 0.8898 - acc: 0.6884 - val_loss: 0.9666 - val_acc: 0.6645\n",
            "Epoch 5/10\n",
            "50000/50000 [==============================] - 71s 1ms/sample - loss: 0.8109 - acc: 0.7166 - val_loss: 1.0584 - val_acc: 0.6434\n",
            "Epoch 6/10\n",
            "50000/50000 [==============================] - 72s 1ms/sample - loss: 0.7297 - acc: 0.7455 - val_loss: 0.9590 - val_acc: 0.6795\n",
            "Epoch 7/10\n",
            "50000/50000 [==============================] - 71s 1ms/sample - loss: 0.6705 - acc: 0.7648 - val_loss: 0.9938 - val_acc: 0.6814\n",
            "Epoch 8/10\n",
            "50000/50000 [==============================] - 71s 1ms/sample - loss: 0.6082 - acc: 0.7856 - val_loss: 1.0338 - val_acc: 0.6802\n",
            "Epoch 9/10\n",
            "50000/50000 [==============================] - 71s 1ms/sample - loss: 0.5513 - acc: 0.8055 - val_loss: 1.0568 - val_acc: 0.6733\n",
            "Epoch 10/10\n",
            "50000/50000 [==============================] - 71s 1ms/sample - loss: 0.4897 - acc: 0.8266 - val_loss: 1.1325 - val_acc: 0.6665\n"
          ],
          "name": "stdout"
        }
      ]
    },
    {
      "cell_type": "markdown",
      "metadata": {
        "id": "3D-jIeFYukKH",
        "colab_type": "text"
      },
      "source": [
        "*Accuracy*"
      ]
    },
    {
      "cell_type": "code",
      "metadata": {
        "id": "ZXCtdHPmumgo",
        "colab_type": "code",
        "colab": {
          "base_uri": "https://localhost:8080/",
          "height": 54
        },
        "outputId": "da433ddf-312e-4708-f85e-029d6bb41784"
      },
      "source": [
        "test_loss, test_acc = model.evaluate(test_images, test_labels)\n",
        "\n",
        "print('Test accuracy:', test_acc)"
      ],
      "execution_count": 70,
      "outputs": [
        {
          "output_type": "stream",
          "text": [
            "10000/10000 [==============================] - 4s 408us/sample - loss: 1.1325 - acc: 0.6665\n",
            "Test accuracy: 0.6665\n"
          ],
          "name": "stdout"
        }
      ]
    },
    {
      "cell_type": "code",
      "metadata": {
        "id": "mM5xxonPuqeC",
        "colab_type": "code",
        "colab": {
          "base_uri": "https://localhost:8080/",
          "height": 295
        },
        "outputId": "04f05c84-3e06-4983-f9b9-a915f1f18fed"
      },
      "source": [
        "history_dict = history.history\n",
        "loss_values = history_dict['loss']\n",
        "test_loss_values = history_dict['val_loss']\n",
        "epochs_range = range(1, epochs+1)\n",
        "\n",
        "plt.plot(epochs_range, loss_values, 'go', label='Training loss')\n",
        "plt.plot(epochs_range, test_loss_values , 'r', label='Test loss')\n",
        "plt.title('Training and test loss')\n",
        "plt.xlabel('Epochs')\n",
        "plt.ylabel('Loss')\n",
        "plt.legend()\n",
        "plt.show()"
      ],
      "execution_count": 71,
      "outputs": [
        {
          "output_type": "display_data",
          "data": {
            "image/png": "[encoded data removed]",
            "text/plain": [
              "<Figure size 432x288 with 1 Axes>"
            ]
          },
          "metadata": {
            "tags": []
          }
        }
      ]
    },
    {
      "cell_type": "code",
      "metadata": {
        "id": "9wLeRJA3usWk",
        "colab_type": "code",
        "colab": {
          "base_uri": "https://localhost:8080/",
          "height": 295
        },
        "outputId": "43efbeb5-c90b-4e87-a0c3-ee4ec3e4eb5e"
      },
      "source": [
        "acc_values = history_dict['acc']\n",
        "test_acc_values = history_dict['val_acc']\n",
        "\n",
        "plt.plot(epochs_range, acc_values, 'go', label='Training accuracy')\n",
        "plt.plot(epochs_range, test_acc_values, 'r', label='Test accuracy')\n",
        "plt.title('Training and test accuracy')\n",
        "plt.xlabel('Epochs')\n",
        "plt.ylabel('Accuracy')\n",
        "plt.legend()\n",
        "plt.show()"
      ],
      "execution_count": 72,
      "outputs": [
        {
          "output_type": "display_data",
          "data": {
            "image/png": "[encoded data removed]",
            "text/plain": [
              "<Figure size 432x288 with 1 Axes>"
            ]
          },
          "metadata": {
            "tags": []
          }
        }
      ]
    },
    {
      "cell_type": "markdown",
      "metadata": {
        "id": "lGakc5M0zS84",
        "colab_type": "text"
      },
      "source": [
        "**Build Underfit Model**\n",
        "\n",
        "This model does not extract as many feautres as the past models, and it performs poorly in both training and validation."
      ]
    },
    {
      "cell_type": "code",
      "metadata": {
        "id": "0bL93TZfzeLQ",
        "colab_type": "code",
        "colab": {}
      },
      "source": [
        "# 2D, Maxpooling, 2D, Maxpooling, 2D, Dense, Dense\n",
        "model = keras.Sequential([\n",
        "    keras.layers.Conv2D(4, (3, 3), activation='relu', input_shape=(32, 32, 3)),\n",
        "    keras.layers.MaxPooling2D((2, 2)),\n",
        "    keras.layers.Conv2D(8, (3, 3), activation='relu'),\n",
        "    keras.layers.MaxPooling2D((2, 2)),\n",
        "    keras.layers.Conv2D(16, (3, 3), activation='relu'),\n",
        "    keras.layers.Flatten(),\n",
        "    keras.layers.Dense(16, activation='relu'),\n",
        "    keras.layers.Dense(10, activation='softmax')\n",
        "])"
      ],
      "execution_count": 0,
      "outputs": []
    },
    {
      "cell_type": "code",
      "metadata": {
        "id": "5VnLRa3xzhk5",
        "colab_type": "code",
        "colab": {}
      },
      "source": [
        "model.compile(optimizer='adam',\n",
        "             loss='sparse_categorical_crossentropy',\n",
        "             metrics=['accuracy'])"
      ],
      "execution_count": 0,
      "outputs": []
    },
    {
      "cell_type": "code",
      "metadata": {
        "id": "wN8YZ5DFz565",
        "colab_type": "code",
        "colab": {
          "base_uri": "https://localhost:8080/",
          "height": 237
        },
        "outputId": "601847d0-8d6c-4313-e836-171074d894c0"
      },
      "source": [
        "epochs = 5\n",
        "history = model.fit(train_images, \n",
        "                      train_labels, \n",
        "                      epochs=epochs,  \n",
        "                      validation_data=(test_images, test_labels))"
      ],
      "execution_count": 75,
      "outputs": [
        {
          "output_type": "stream",
          "text": [
            "Train on 50000 samples, validate on 10000 samples\n",
            "Epoch 1/5\n",
            "50000/50000 [==============================] - 34s 673us/sample - loss: 1.8862 - acc: 0.3102 - val_loss: 1.6917 - val_acc: 0.3962\n",
            "Epoch 2/5\n",
            "50000/50000 [==============================] - 33s 670us/sample - loss: 1.6251 - acc: 0.4147 - val_loss: 1.5583 - val_acc: 0.4335\n",
            "Epoch 3/5\n",
            "50000/50000 [==============================] - 33s 666us/sample - loss: 1.5280 - acc: 0.4477 - val_loss: 1.4957 - val_acc: 0.4626\n",
            "Epoch 4/5\n",
            "50000/50000 [==============================] - 33s 667us/sample - loss: 1.4598 - acc: 0.4767 - val_loss: 1.5100 - val_acc: 0.4550\n",
            "Epoch 5/5\n",
            "50000/50000 [==============================] - 33s 668us/sample - loss: 1.4209 - acc: 0.4899 - val_loss: 1.4149 - val_acc: 0.4863\n"
          ],
          "name": "stdout"
        }
      ]
    },
    {
      "cell_type": "markdown",
      "metadata": {
        "id": "RbtYsuX8z85J",
        "colab_type": "text"
      },
      "source": [
        "*Accuracy*"
      ]
    },
    {
      "cell_type": "code",
      "metadata": {
        "id": "oQFgNtSRz-Aj",
        "colab_type": "code",
        "colab": {
          "base_uri": "https://localhost:8080/",
          "height": 54
        },
        "outputId": "ebd4bd60-8f5a-47cb-a46f-f391feefe8b5"
      },
      "source": [
        "test_loss, test_acc = model.evaluate(test_images, test_labels)\n",
        "\n",
        "print('Test accuracy:', test_acc)"
      ],
      "execution_count": 76,
      "outputs": [
        {
          "output_type": "stream",
          "text": [
            "10000/10000 [==============================] - 3s 308us/sample - loss: 1.4149 - acc: 0.4863\n",
            "Test accuracy: 0.4863\n"
          ],
          "name": "stdout"
        }
      ]
    },
    {
      "cell_type": "code",
      "metadata": {
        "id": "gf9K5e7A0BHl",
        "colab_type": "code",
        "colab": {
          "base_uri": "https://localhost:8080/",
          "height": 295
        },
        "outputId": "b5c921f6-b2e4-4c88-acf4-2b882844ea41"
      },
      "source": [
        "history_dict = history.history\n",
        "loss_values = history_dict['loss']\n",
        "test_loss_values = history_dict['val_loss']\n",
        "epochs_range = range(1, epochs+1)\n",
        "\n",
        "plt.plot(epochs_range, loss_values, 'go', label='Training loss')\n",
        "plt.plot(epochs_range, test_loss_values , 'r', label='Test loss')\n",
        "plt.title('Training and test loss')\n",
        "plt.xlabel('Epochs')\n",
        "plt.ylabel('Loss')\n",
        "plt.legend()\n",
        "plt.show()"
      ],
      "execution_count": 77,
      "outputs": [
        {
          "output_type": "display_data",
          "data": {
            "image/png": "[encoded data removed]",
            "text/plain": [
              "<Figure size 432x288 with 1 Axes>"
            ]
          },
          "metadata": {
            "tags": []
          }
        }
      ]
    },
    {
      "cell_type": "code",
      "metadata": {
        "id": "n4mcdqEZ0Cum",
        "colab_type": "code",
        "colab": {
          "base_uri": "https://localhost:8080/",
          "height": 295
        },
        "outputId": "60d1ea21-5155-48e1-b18f-94792108b38d"
      },
      "source": [
        "acc_values = history_dict['acc']\n",
        "test_acc_values = history_dict['val_acc']\n",
        "\n",
        "plt.plot(epochs_range, acc_values, 'go', label='Training accuracy')\n",
        "plt.plot(epochs_range, test_acc_values, 'r', label='Test accuracy')\n",
        "plt.title('Training and test accuracy')\n",
        "plt.xlabel('Epochs')\n",
        "plt.ylabel('Accuracy')\n",
        "plt.legend()\n",
        "plt.show()"
      ],
      "execution_count": 78,
      "outputs": [
        {
          "output_type": "display_data",
          "data": {
            "image/png": "[encoded data removed]",
            "text/plain": [
              "<Figure size 432x288 with 1 Axes>"
            ]
          },
          "metadata": {
            "tags": []
          }
        }
      ]
    }
  ]
}